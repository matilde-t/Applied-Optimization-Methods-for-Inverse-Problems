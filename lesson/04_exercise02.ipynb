{
 "cells": [
  {
   "cell_type": "code",
   "execution_count": 4,
   "id": "296e1c22",
   "metadata": {},
   "outputs": [],
   "source": [
    "import numpy as np"
   ]
  },
  {
   "cell_type": "markdown",
   "id": "405db013",
   "metadata": {},
   "source": [
    "## Projections\n",
    "\n",
    "Projections on a closed convex set, are very useful for many optimization problems. Instead of solving the unconstrained problem\n",
    "$$\n",
    "\\min_x f(x)\n",
    "$$\n",
    "you can solve the constrained problem:\n",
    "$$\n",
    "\\min_{x} f(x) \\text{ subject to } x \\in \\mathcal{C}\n",
    "$$\n",
    "That leads to a gradient method which iterativly solves:\n",
    "$$\n",
    "y_{k+1} = x_k - \\alpha_k \\nabla f(x_k) \\\\\n",
    "x_{k+1} = \\arg\\min_{x \\in \\mathcal{C}} || y_{k+1} - x ||\n",
    "$$\n",
    "\n",
    "However, for closed convext sets this simplifies to a simple projection operator $\\mathcal{P}_\\mathcal{C}$. This exercise, talks one special interesting such projection operator.\n",
    "\n",
    "#### Box Projection\n",
    "\n",
    "The orthogonal projection onto a box:\n",
    "$$\n",
    " \\operatorname{Box}_{[l, u]} = \\{ x: l \\leq x\\leq u \\}\n",
    "$$\n",
    "is defined as:\n",
    "$$\n",
    "P_{\\operatorname{Box}_{[l, u]}} (x_i) = min\\{ max \\{x_i, l_i\\}, u_i \\} =\n",
    "        \\begin{cases}\n",
    "        l_i, & x_i < l_i\\\\\n",
    "        x_i,& l_i \\leq x_i \\leq u_i \\\\\n",
    "        u_i,  & x_i > u_i\\\\\n",
    "        \\end{cases} \\quad \\forall i\n",
    "$$\n",
    "\n",
    "Implement a function that takes an input vector and orthogonal projection onto the box set!"
   ]
  },
  {
   "cell_type": "code",
   "execution_count": 7,
   "id": "ecb4c48a",
   "metadata": {},
   "outputs": [
    {
     "name": "stdout",
     "output_type": "stream",
     "text": [
      "[[3 3 3 4 5]\n",
      " [6 7 8 8 8]\n",
      " [3 3 3 4 5]]\n"
     ]
    }
   ],
   "source": [
    "def box(x, l, u):\n",
    "    \"\"\"\n",
    "    Box projection\n",
    "    \"\"\"\n",
    "    return np.minimum(np.maximum(x, l), u)\n",
    "\n",
    "x = np.array([[1, 2, 3, 4, 5], [6, 7, 8, 9, 10], [1, 2, 3, 4, 5]])\n",
    "a = box(x, 3, 8)\n",
    "print(a)"
   ]
  },
  {
   "cell_type": "markdown",
   "id": "13c047b4",
   "metadata": {},
   "source": [
    "### Brainstorm\n",
    "\n",
    "For different applications (e.g. X-ray CT, denoising, deconvolution), does the box projection make sense for them? If so, what values for the lower and upper bound do make sense? Is that a general statement, or can that only happen in special cases?"
   ]
  }
 ],
 "metadata": {
  "kernelspec": {
   "display_name": "Python 3 (ipykernel)",
   "language": "python",
   "name": "python3"
  },
  "language_info": {
   "codemirror_mode": {
    "name": "ipython",
    "version": 3
   },
   "file_extension": ".py",
   "mimetype": "text/x-python",
   "name": "python",
   "nbconvert_exporter": "python",
   "pygments_lexer": "ipython3",
   "version": "3.10.10"
  }
 },
 "nbformat": 4,
 "nbformat_minor": 5
}
